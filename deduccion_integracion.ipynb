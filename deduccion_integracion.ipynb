{
 "cells": [
  {
   "cell_type": "code",
   "execution_count": 1,
   "metadata": {
    "collapsed": true
   },
   "outputs": [],
   "source": [
    "from proofs import integral_methods"
   ]
  },
  {
   "cell_type": "markdown",
   "metadata": {},
   "source": [
    "Para observar los pasos de la demostración de un método de integración use la siguiente línea reemplazando su argumento por el número de puntos que desea en la aproximación. De forma automatica se construirán los pasos para su deducción.  \n",
    "Tenga en cuenta que los casos prácticos no poseen muchos puntos debido al incremento del número de operaciones lo cual a su vez se traduce en el aumento del error de representación por propagación, y entre más puntos la generación de la deducción tomará más tiempo.  \n",
    "Acorde a los métodos clásicos, use los siguientes números de puntos:  \n",
    "\n",
    "| Número de puntos | Método de integración |  \n",
    "|:---:|:---|  \n",
    "|2|Trapecio|  \n",
    "|3|Simpson $1/3$|  \n",
    "|4|Simpson $3/8$|  \n",
    "\n",
    "Notese que el nombre de los últimos dos casos corresponde al factor común que se extrae de las expresiones, y el primer caso debido a la geometría formada por dicha aproximación (observe que su aproximación es igual a la formula del área de dicha geometría).  "
   ]
  },
  {
   "cell_type": "code",
   "execution_count": 2,
   "metadata": {
    "collapsed": false,
    "scrolled": false
   },
   "outputs": [
    {
     "data": {
      "text/markdown": [
       "# Integración numérica"
      ],
      "text/plain": [
       "<IPython.core.display.Markdown object>"
      ]
     },
     "metadata": {},
     "output_type": "display_data"
    },
    {
     "data": {
      "text/markdown": [
       "## Polinomio interpolante  \n",
       "Como primer paso se construyen los polinomios de Lagrange asociados a cada uno de los 4 puntos $x_i$ solicitados para la interpolación. Tenga en cuenta que los polinomios serán de grado 3."
      ],
      "text/plain": [
       "<IPython.core.display.Markdown object>"
      ]
     },
     "metadata": {},
     "output_type": "display_data"
    },
    {
     "data": {
      "text/latex": [
       "$$L_{i,n}(x) = \\prod_{j=0 \\ j\\neq i}^n \\frac{x-x_j}{x_i-x_j}$$"
      ],
      "text/plain": [
       "<IPython.core.display.Latex object>"
      ]
     },
     "metadata": {},
     "output_type": "display_data"
    },
    {
     "data": {
      "text/latex": [
       "$$L_{{0,4}}(x)=\\frac{\\left(x - x_{1}\\right) \\left(x - x_{2}\\right) \\left(x - x_{3}\\right)}{\\left(x_{0} - x_{1}\\right) \\left(x_{0} - x_{2}\\right) \\left(x_{0} - x_{3}\\right)}$$"
      ],
      "text/plain": [
       "<IPython.core.display.Latex object>"
      ]
     },
     "metadata": {},
     "output_type": "display_data"
    },
    {
     "data": {
      "text/latex": [
       "$$L_{{1,4}}(x)=\\frac{\\left(x - x_{0}\\right) \\left(x - x_{2}\\right) \\left(x - x_{3}\\right)}{\\left(- x_{0} + x_{1}\\right) \\left(x_{1} - x_{2}\\right) \\left(x_{1} - x_{3}\\right)}$$"
      ],
      "text/plain": [
       "<IPython.core.display.Latex object>"
      ]
     },
     "metadata": {},
     "output_type": "display_data"
    },
    {
     "data": {
      "text/latex": [
       "$$L_{{2,4}}(x)=\\frac{\\left(x - x_{0}\\right) \\left(x - x_{1}\\right) \\left(x - x_{3}\\right)}{\\left(- x_{0} + x_{2}\\right) \\left(- x_{1} + x_{2}\\right) \\left(x_{2} - x_{3}\\right)}$$"
      ],
      "text/plain": [
       "<IPython.core.display.Latex object>"
      ]
     },
     "metadata": {},
     "output_type": "display_data"
    },
    {
     "data": {
      "text/latex": [
       "$$L_{{3,4}}(x)=\\frac{\\left(x - x_{0}\\right) \\left(x - x_{1}\\right) \\left(x - x_{2}\\right)}{\\left(- x_{0} + x_{3}\\right) \\left(- x_{1} + x_{3}\\right) \\left(- x_{2} + x_{3}\\right)}$$"
      ],
      "text/plain": [
       "<IPython.core.display.Latex object>"
      ]
     },
     "metadata": {},
     "output_type": "display_data"
    },
    {
     "data": {
      "text/markdown": [
       "Ahora, con los polinomios de Lagrange construidos y la evaluación de la función en los puntos, construimos el polinomio interpolante de grado 3, que suponemos como aproximación a la función."
      ],
      "text/plain": [
       "<IPython.core.display.Markdown object>"
      ]
     },
     "metadata": {},
     "output_type": "display_data"
    },
    {
     "data": {
      "text/latex": [
       "$$P_4(x)=\\frac{\\left(x - x_{0}\\right) \\left(x - x_{1}\\right) \\left(x - x_{2}\\right) f{\\left (x_{3} \\right )}}{\\left(- x_{0} + x_{3}\\right) \\left(- x_{1} + x_{3}\\right) \\left(- x_{2} + x_{3}\\right)} + \\frac{\\left(x - x_{0}\\right) \\left(x - x_{1}\\right) \\left(x - x_{3}\\right) f{\\left (x_{2} \\right )}}{\\left(- x_{0} + x_{2}\\right) \\left(- x_{1} + x_{2}\\right) \\left(x_{2} - x_{3}\\right)} + \\frac{\\left(x - x_{0}\\right) \\left(x - x_{2}\\right) \\left(x - x_{3}\\right) f{\\left (x_{1} \\right )}}{\\left(- x_{0} + x_{1}\\right) \\left(x_{1} - x_{2}\\right) \\left(x_{1} - x_{3}\\right)} + \\frac{\\left(x - x_{1}\\right) \\left(x - x_{2}\\right) \\left(x - x_{3}\\right) f{\\left (x_{0} \\right )}}{\\left(x_{0} - x_{1}\\right) \\left(x_{0} - x_{2}\\right) \\left(x_{0} - x_{3}\\right)}$$"
      ],
      "text/plain": [
       "<IPython.core.display.Latex object>"
      ]
     },
     "metadata": {},
     "output_type": "display_data"
    },
    {
     "data": {
      "text/markdown": [
       "## Integral analitica \n",
       "Usando el polinomio interpolante, integramos analiticamente respecto a la variable $x$ en el intervalo dado por $\\left[x_0, x_3\\right]$ y obtenemos la siguiente aproximación."
      ],
      "text/plain": [
       "<IPython.core.display.Markdown object>"
      ]
     },
     "metadata": {},
     "output_type": "display_data"
    },
    {
     "data": {
      "text/latex": [
       "$$\\int_{x_0}^{x_3} f(x)dx\\approx \\int P_3(x)dx=- \\frac{x_{0}^{4} \\left(x_{0}^{2} x_{1} f{\\left (x_{2} \\right )} - x_{0}^{2} x_{1} f{\\left (x_{3} \\right )} - x_{0}^{2} x_{2} f{\\left (x_{1} \\right )} + x_{0}^{2} x_{2} f{\\left (x_{3} \\right )} + x_{0}^{2} x_{3} f{\\left (x_{1} \\right )} - x_{0}^{2} x_{3} f{\\left (x_{2} \\right )} - x_{0} x_{1}^{2} f{\\left (x_{2} \\right )} + x_{0} x_{1}^{2} f{\\left (x_{3} \\right )} + x_{0} x_{2}^{2} f{\\left (x_{1} \\right )} - x_{0} x_{2}^{2} f{\\left (x_{3} \\right )} - x_{0} x_{3}^{2} f{\\left (x_{1} \\right )} + x_{0} x_{3}^{2} f{\\left (x_{2} \\right )} + x_{1}^{2} x_{2} f{\\left (x_{0} \\right )} - x_{1}^{2} x_{2} f{\\left (x_{3} \\right )} - x_{1}^{2} x_{3} f{\\left (x_{0} \\right )} + x_{1}^{2} x_{3} f{\\left (x_{2} \\right )} - x_{1} x_{2}^{2} f{\\left (x_{0} \\right )} + x_{1} x_{2}^{2} f{\\left (x_{3} \\right )} + x_{1} x_{3}^{2} f{\\left (x_{0} \\right )} - x_{1} x_{3}^{2} f{\\left (x_{2} \\right )} + x_{2}^{2} x_{3} f{\\left (x_{0} \\right )} - x_{2}^{2} x_{3} f{\\left (x_{1} \\right )} - x_{2} x_{3}^{2} f{\\left (x_{0} \\right )} + x_{2} x_{3}^{2} f{\\left (x_{1} \\right )}\\right)}{4 x_{0}^{3} x_{1}^{2} x_{2} - 4 x_{0}^{3} x_{1}^{2} x_{3} - 4 x_{0}^{3} x_{1} x_{2}^{2} + 4 x_{0}^{3} x_{1} x_{3}^{2} + 4 x_{0}^{3} x_{2}^{2} x_{3} - 4 x_{0}^{3} x_{2} x_{3}^{2} - 4 x_{0}^{2} x_{1}^{3} x_{2} + 4 x_{0}^{2} x_{1}^{3} x_{3} + 4 x_{0}^{2} x_{1} x_{2}^{3} - 4 x_{0}^{2} x_{1} x_{3}^{3} - 4 x_{0}^{2} x_{2}^{3} x_{3} + 4 x_{0}^{2} x_{2} x_{3}^{3} + 4 x_{0} x_{1}^{3} x_{2}^{2} - 4 x_{0} x_{1}^{3} x_{3}^{2} - 4 x_{0} x_{1}^{2} x_{2}^{3} + 4 x_{0} x_{1}^{2} x_{3}^{3} + 4 x_{0} x_{2}^{3} x_{3}^{2} - 4 x_{0} x_{2}^{2} x_{3}^{3} - 4 x_{1}^{3} x_{2}^{2} x_{3} + 4 x_{1}^{3} x_{2} x_{3}^{2} + 4 x_{1}^{2} x_{2}^{3} x_{3} - 4 x_{1}^{2} x_{2} x_{3}^{3} - 4 x_{1} x_{2}^{3} x_{3}^{2} + 4 x_{1} x_{2}^{2} x_{3}^{3}} + \\frac{x_{0}^{3} \\left(x_{0}^{3} x_{1} f{\\left (x_{2} \\right )} - x_{0}^{3} x_{1} f{\\left (x_{3} \\right )} - x_{0}^{3} x_{2} f{\\left (x_{1} \\right )} + x_{0}^{3} x_{2} f{\\left (x_{3} \\right )} + x_{0}^{3} x_{3} f{\\left (x_{1} \\right )} - x_{0}^{3} x_{3} f{\\left (x_{2} \\right )} - x_{0} x_{1}^{3} f{\\left (x_{2} \\right )} + x_{0} x_{1}^{3} f{\\left (x_{3} \\right )} + x_{0} x_{2}^{3} f{\\left (x_{1} \\right )} - x_{0} x_{2}^{3} f{\\left (x_{3} \\right )} - x_{0} x_{3}^{3} f{\\left (x_{1} \\right )} + x_{0} x_{3}^{3} f{\\left (x_{2} \\right )} + x_{1}^{3} x_{2} f{\\left (x_{0} \\right )} - x_{1}^{3} x_{2} f{\\left (x_{3} \\right )} - x_{1}^{3} x_{3} f{\\left (x_{0} \\right )} + x_{1}^{3} x_{3} f{\\left (x_{2} \\right )} - x_{1} x_{2}^{3} f{\\left (x_{0} \\right )} + x_{1} x_{2}^{3} f{\\left (x_{3} \\right )} + x_{1} x_{3}^{3} f{\\left (x_{0} \\right )} - x_{1} x_{3}^{3} f{\\left (x_{2} \\right )} + x_{2}^{3} x_{3} f{\\left (x_{0} \\right )} - x_{2}^{3} x_{3} f{\\left (x_{1} \\right )} - x_{2} x_{3}^{3} f{\\left (x_{0} \\right )} + x_{2} x_{3}^{3} f{\\left (x_{1} \\right )}\\right)}{3 x_{0}^{3} x_{1}^{2} x_{2} - 3 x_{0}^{3} x_{1}^{2} x_{3} - 3 x_{0}^{3} x_{1} x_{2}^{2} + 3 x_{0}^{3} x_{1} x_{3}^{2} + 3 x_{0}^{3} x_{2}^{2} x_{3} - 3 x_{0}^{3} x_{2} x_{3}^{2} - 3 x_{0}^{2} x_{1}^{3} x_{2} + 3 x_{0}^{2} x_{1}^{3} x_{3} + 3 x_{0}^{2} x_{1} x_{2}^{3} - 3 x_{0}^{2} x_{1} x_{3}^{3} - 3 x_{0}^{2} x_{2}^{3} x_{3} + 3 x_{0}^{2} x_{2} x_{3}^{3} + 3 x_{0} x_{1}^{3} x_{2}^{2} - 3 x_{0} x_{1}^{3} x_{3}^{2} - 3 x_{0} x_{1}^{2} x_{2}^{3} + 3 x_{0} x_{1}^{2} x_{3}^{3} + 3 x_{0} x_{2}^{3} x_{3}^{2} - 3 x_{0} x_{2}^{2} x_{3}^{3} - 3 x_{1}^{3} x_{2}^{2} x_{3} + 3 x_{1}^{3} x_{2} x_{3}^{2} + 3 x_{1}^{2} x_{2}^{3} x_{3} - 3 x_{1}^{2} x_{2} x_{3}^{3} - 3 x_{1} x_{2}^{3} x_{3}^{2} + 3 x_{1} x_{2}^{2} x_{3}^{3}} - \\frac{x_{0}^{2} \\left(x_{0}^{3} x_{1}^{2} f{\\left (x_{2} \\right )} - x_{0}^{3} x_{1}^{2} f{\\left (x_{3} \\right )} - x_{0}^{3} x_{2}^{2} f{\\left (x_{1} \\right )} + x_{0}^{3} x_{2}^{2} f{\\left (x_{3} \\right )} + x_{0}^{3} x_{3}^{2} f{\\left (x_{1} \\right )} - x_{0}^{3} x_{3}^{2} f{\\left (x_{2} \\right )} - x_{0}^{2} x_{1}^{3} f{\\left (x_{2} \\right )} + x_{0}^{2} x_{1}^{3} f{\\left (x_{3} \\right )} + x_{0}^{2} x_{2}^{3} f{\\left (x_{1} \\right )} - x_{0}^{2} x_{2}^{3} f{\\left (x_{3} \\right )} - x_{0}^{2} x_{3}^{3} f{\\left (x_{1} \\right )} + x_{0}^{2} x_{3}^{3} f{\\left (x_{2} \\right )} + x_{1}^{3} x_{2}^{2} f{\\left (x_{0} \\right )} - x_{1}^{3} x_{2}^{2} f{\\left (x_{3} \\right )} - x_{1}^{3} x_{3}^{2} f{\\left (x_{0} \\right )} + x_{1}^{3} x_{3}^{2} f{\\left (x_{2} \\right )} - x_{1}^{2} x_{2}^{3} f{\\left (x_{0} \\right )} + x_{1}^{2} x_{2}^{3} f{\\left (x_{3} \\right )} + x_{1}^{2} x_{3}^{3} f{\\left (x_{0} \\right )} - x_{1}^{2} x_{3}^{3} f{\\left (x_{2} \\right )} + x_{2}^{3} x_{3}^{2} f{\\left (x_{0} \\right )} - x_{2}^{3} x_{3}^{2} f{\\left (x_{1} \\right )} - x_{2}^{2} x_{3}^{3} f{\\left (x_{0} \\right )} + x_{2}^{2} x_{3}^{3} f{\\left (x_{1} \\right )}\\right)}{2 x_{0}^{3} x_{1}^{2} x_{2} - 2 x_{0}^{3} x_{1}^{2} x_{3} - 2 x_{0}^{3} x_{1} x_{2}^{2} + 2 x_{0}^{3} x_{1} x_{3}^{2} + 2 x_{0}^{3} x_{2}^{2} x_{3} - 2 x_{0}^{3} x_{2} x_{3}^{2} - 2 x_{0}^{2} x_{1}^{3} x_{2} + 2 x_{0}^{2} x_{1}^{3} x_{3} + 2 x_{0}^{2} x_{1} x_{2}^{3} - 2 x_{0}^{2} x_{1} x_{3}^{3} - 2 x_{0}^{2} x_{2}^{3} x_{3} + 2 x_{0}^{2} x_{2} x_{3}^{3} + 2 x_{0} x_{1}^{3} x_{2}^{2} - 2 x_{0} x_{1}^{3} x_{3}^{2} - 2 x_{0} x_{1}^{2} x_{2}^{3} + 2 x_{0} x_{1}^{2} x_{3}^{3} + 2 x_{0} x_{2}^{3} x_{3}^{2} - 2 x_{0} x_{2}^{2} x_{3}^{3} - 2 x_{1}^{3} x_{2}^{2} x_{3} + 2 x_{1}^{3} x_{2} x_{3}^{2} + 2 x_{1}^{2} x_{2}^{3} x_{3} - 2 x_{1}^{2} x_{2} x_{3}^{3} - 2 x_{1} x_{2}^{3} x_{3}^{2} + 2 x_{1} x_{2}^{2} x_{3}^{3}} + \\frac{x_{0}}{x_{0}^{3} x_{1}^{2} x_{2} - x_{0}^{3} x_{1}^{2} x_{3} - x_{0}^{3} x_{1} x_{2}^{2} + x_{0}^{3} x_{1} x_{3}^{2} + x_{0}^{3} x_{2}^{2} x_{3} - x_{0}^{3} x_{2} x_{3}^{2} - x_{0}^{2} x_{1}^{3} x_{2} + x_{0}^{2} x_{1}^{3} x_{3} + x_{0}^{2} x_{1} x_{2}^{3} - x_{0}^{2} x_{1} x_{3}^{3} - x_{0}^{2} x_{2}^{3} x_{3} + x_{0}^{2} x_{2} x_{3}^{3} + x_{0} x_{1}^{3} x_{2}^{2} - x_{0} x_{1}^{3} x_{3}^{2} - x_{0} x_{1}^{2} x_{2}^{3} + x_{0} x_{1}^{2} x_{3}^{3} + x_{0} x_{2}^{3} x_{3}^{2} - x_{0} x_{2}^{2} x_{3}^{3} - x_{1}^{3} x_{2}^{2} x_{3} + x_{1}^{3} x_{2} x_{3}^{2} + x_{1}^{2} x_{2}^{3} x_{3} - x_{1}^{2} x_{2} x_{3}^{3} - x_{1} x_{2}^{3} x_{3}^{2} + x_{1} x_{2}^{2} x_{3}^{3}} \\left(- x_{0}^{3} x_{1}^{2} x_{2} f{\\left (x_{3} \\right )} + x_{0}^{3} x_{1}^{2} x_{3} f{\\left (x_{2} \\right )} + x_{0}^{3} x_{1} x_{2}^{2} f{\\left (x_{3} \\right )} - x_{0}^{3} x_{1} x_{3}^{2} f{\\left (x_{2} \\right )} - x_{0}^{3} x_{2}^{2} x_{3} f{\\left (x_{1} \\right )} + x_{0}^{3} x_{2} x_{3}^{2} f{\\left (x_{1} \\right )} + x_{0}^{2} x_{1}^{3} x_{2} f{\\left (x_{3} \\right )} - x_{0}^{2} x_{1}^{3} x_{3} f{\\left (x_{2} \\right )} - x_{0}^{2} x_{1} x_{2}^{3} f{\\left (x_{3} \\right )} + x_{0}^{2} x_{1} x_{3}^{3} f{\\left (x_{2} \\right )} + x_{0}^{2} x_{2}^{3} x_{3} f{\\left (x_{1} \\right )} - x_{0}^{2} x_{2} x_{3}^{3} f{\\left (x_{1} \\right )} - x_{0} x_{1}^{3} x_{2}^{2} f{\\left (x_{3} \\right )} + x_{0} x_{1}^{3} x_{3}^{2} f{\\left (x_{2} \\right )} + x_{0} x_{1}^{2} x_{2}^{3} f{\\left (x_{3} \\right )} - x_{0} x_{1}^{2} x_{3}^{3} f{\\left (x_{2} \\right )} - x_{0} x_{2}^{3} x_{3}^{2} f{\\left (x_{1} \\right )} + x_{0} x_{2}^{2} x_{3}^{3} f{\\left (x_{1} \\right )} + x_{1}^{3} x_{2}^{2} x_{3} f{\\left (x_{0} \\right )} - x_{1}^{3} x_{2} x_{3}^{2} f{\\left (x_{0} \\right )} - x_{1}^{2} x_{2}^{3} x_{3} f{\\left (x_{0} \\right )} + x_{1}^{2} x_{2} x_{3}^{3} f{\\left (x_{0} \\right )} + x_{1} x_{2}^{3} x_{3}^{2} f{\\left (x_{0} \\right )} - x_{1} x_{2}^{2} x_{3}^{3} f{\\left (x_{0} \\right )}\\right) + \\frac{x_{3}^{4} \\left(x_{0}^{2} x_{1} f{\\left (x_{2} \\right )} - x_{0}^{2} x_{1} f{\\left (x_{3} \\right )} - x_{0}^{2} x_{2} f{\\left (x_{1} \\right )} + x_{0}^{2} x_{2} f{\\left (x_{3} \\right )} + x_{0}^{2} x_{3} f{\\left (x_{1} \\right )} - x_{0}^{2} x_{3} f{\\left (x_{2} \\right )} - x_{0} x_{1}^{2} f{\\left (x_{2} \\right )} + x_{0} x_{1}^{2} f{\\left (x_{3} \\right )} + x_{0} x_{2}^{2} f{\\left (x_{1} \\right )} - x_{0} x_{2}^{2} f{\\left (x_{3} \\right )} - x_{0} x_{3}^{2} f{\\left (x_{1} \\right )} + x_{0} x_{3}^{2} f{\\left (x_{2} \\right )} + x_{1}^{2} x_{2} f{\\left (x_{0} \\right )} - x_{1}^{2} x_{2} f{\\left (x_{3} \\right )} - x_{1}^{2} x_{3} f{\\left (x_{0} \\right )} + x_{1}^{2} x_{3} f{\\left (x_{2} \\right )} - x_{1} x_{2}^{2} f{\\left (x_{0} \\right )} + x_{1} x_{2}^{2} f{\\left (x_{3} \\right )} + x_{1} x_{3}^{2} f{\\left (x_{0} \\right )} - x_{1} x_{3}^{2} f{\\left (x_{2} \\right )} + x_{2}^{2} x_{3} f{\\left (x_{0} \\right )} - x_{2}^{2} x_{3} f{\\left (x_{1} \\right )} - x_{2} x_{3}^{2} f{\\left (x_{0} \\right )} + x_{2} x_{3}^{2} f{\\left (x_{1} \\right )}\\right)}{4 x_{0}^{3} x_{1}^{2} x_{2} - 4 x_{0}^{3} x_{1}^{2} x_{3} - 4 x_{0}^{3} x_{1} x_{2}^{2} + 4 x_{0}^{3} x_{1} x_{3}^{2} + 4 x_{0}^{3} x_{2}^{2} x_{3} - 4 x_{0}^{3} x_{2} x_{3}^{2} - 4 x_{0}^{2} x_{1}^{3} x_{2} + 4 x_{0}^{2} x_{1}^{3} x_{3} + 4 x_{0}^{2} x_{1} x_{2}^{3} - 4 x_{0}^{2} x_{1} x_{3}^{3} - 4 x_{0}^{2} x_{2}^{3} x_{3} + 4 x_{0}^{2} x_{2} x_{3}^{3} + 4 x_{0} x_{1}^{3} x_{2}^{2} - 4 x_{0} x_{1}^{3} x_{3}^{2} - 4 x_{0} x_{1}^{2} x_{2}^{3} + 4 x_{0} x_{1}^{2} x_{3}^{3} + 4 x_{0} x_{2}^{3} x_{3}^{2} - 4 x_{0} x_{2}^{2} x_{3}^{3} - 4 x_{1}^{3} x_{2}^{2} x_{3} + 4 x_{1}^{3} x_{2} x_{3}^{2} + 4 x_{1}^{2} x_{2}^{3} x_{3} - 4 x_{1}^{2} x_{2} x_{3}^{3} - 4 x_{1} x_{2}^{3} x_{3}^{2} + 4 x_{1} x_{2}^{2} x_{3}^{3}} - \\frac{x_{3}^{3} \\left(x_{0}^{3} x_{1} f{\\left (x_{2} \\right )} - x_{0}^{3} x_{1} f{\\left (x_{3} \\right )} - x_{0}^{3} x_{2} f{\\left (x_{1} \\right )} + x_{0}^{3} x_{2} f{\\left (x_{3} \\right )} + x_{0}^{3} x_{3} f{\\left (x_{1} \\right )} - x_{0}^{3} x_{3} f{\\left (x_{2} \\right )} - x_{0} x_{1}^{3} f{\\left (x_{2} \\right )} + x_{0} x_{1}^{3} f{\\left (x_{3} \\right )} + x_{0} x_{2}^{3} f{\\left (x_{1} \\right )} - x_{0} x_{2}^{3} f{\\left (x_{3} \\right )} - x_{0} x_{3}^{3} f{\\left (x_{1} \\right )} + x_{0} x_{3}^{3} f{\\left (x_{2} \\right )} + x_{1}^{3} x_{2} f{\\left (x_{0} \\right )} - x_{1}^{3} x_{2} f{\\left (x_{3} \\right )} - x_{1}^{3} x_{3} f{\\left (x_{0} \\right )} + x_{1}^{3} x_{3} f{\\left (x_{2} \\right )} - x_{1} x_{2}^{3} f{\\left (x_{0} \\right )} + x_{1} x_{2}^{3} f{\\left (x_{3} \\right )} + x_{1} x_{3}^{3} f{\\left (x_{0} \\right )} - x_{1} x_{3}^{3} f{\\left (x_{2} \\right )} + x_{2}^{3} x_{3} f{\\left (x_{0} \\right )} - x_{2}^{3} x_{3} f{\\left (x_{1} \\right )} - x_{2} x_{3}^{3} f{\\left (x_{0} \\right )} + x_{2} x_{3}^{3} f{\\left (x_{1} \\right )}\\right)}{3 x_{0}^{3} x_{1}^{2} x_{2} - 3 x_{0}^{3} x_{1}^{2} x_{3} - 3 x_{0}^{3} x_{1} x_{2}^{2} + 3 x_{0}^{3} x_{1} x_{3}^{2} + 3 x_{0}^{3} x_{2}^{2} x_{3} - 3 x_{0}^{3} x_{2} x_{3}^{2} - 3 x_{0}^{2} x_{1}^{3} x_{2} + 3 x_{0}^{2} x_{1}^{3} x_{3} + 3 x_{0}^{2} x_{1} x_{2}^{3} - 3 x_{0}^{2} x_{1} x_{3}^{3} - 3 x_{0}^{2} x_{2}^{3} x_{3} + 3 x_{0}^{2} x_{2} x_{3}^{3} + 3 x_{0} x_{1}^{3} x_{2}^{2} - 3 x_{0} x_{1}^{3} x_{3}^{2} - 3 x_{0} x_{1}^{2} x_{2}^{3} + 3 x_{0} x_{1}^{2} x_{3}^{3} + 3 x_{0} x_{2}^{3} x_{3}^{2} - 3 x_{0} x_{2}^{2} x_{3}^{3} - 3 x_{1}^{3} x_{2}^{2} x_{3} + 3 x_{1}^{3} x_{2} x_{3}^{2} + 3 x_{1}^{2} x_{2}^{3} x_{3} - 3 x_{1}^{2} x_{2} x_{3}^{3} - 3 x_{1} x_{2}^{3} x_{3}^{2} + 3 x_{1} x_{2}^{2} x_{3}^{3}} + \\frac{x_{3}^{2} \\left(x_{0}^{3} x_{1}^{2} f{\\left (x_{2} \\right )} - x_{0}^{3} x_{1}^{2} f{\\left (x_{3} \\right )} - x_{0}^{3} x_{2}^{2} f{\\left (x_{1} \\right )} + x_{0}^{3} x_{2}^{2} f{\\left (x_{3} \\right )} + x_{0}^{3} x_{3}^{2} f{\\left (x_{1} \\right )} - x_{0}^{3} x_{3}^{2} f{\\left (x_{2} \\right )} - x_{0}^{2} x_{1}^{3} f{\\left (x_{2} \\right )} + x_{0}^{2} x_{1}^{3} f{\\left (x_{3} \\right )} + x_{0}^{2} x_{2}^{3} f{\\left (x_{1} \\right )} - x_{0}^{2} x_{2}^{3} f{\\left (x_{3} \\right )} - x_{0}^{2} x_{3}^{3} f{\\left (x_{1} \\right )} + x_{0}^{2} x_{3}^{3} f{\\left (x_{2} \\right )} + x_{1}^{3} x_{2}^{2} f{\\left (x_{0} \\right )} - x_{1}^{3} x_{2}^{2} f{\\left (x_{3} \\right )} - x_{1}^{3} x_{3}^{2} f{\\left (x_{0} \\right )} + x_{1}^{3} x_{3}^{2} f{\\left (x_{2} \\right )} - x_{1}^{2} x_{2}^{3} f{\\left (x_{0} \\right )} + x_{1}^{2} x_{2}^{3} f{\\left (x_{3} \\right )} + x_{1}^{2} x_{3}^{3} f{\\left (x_{0} \\right )} - x_{1}^{2} x_{3}^{3} f{\\left (x_{2} \\right )} + x_{2}^{3} x_{3}^{2} f{\\left (x_{0} \\right )} - x_{2}^{3} x_{3}^{2} f{\\left (x_{1} \\right )} - x_{2}^{2} x_{3}^{3} f{\\left (x_{0} \\right )} + x_{2}^{2} x_{3}^{3} f{\\left (x_{1} \\right )}\\right)}{2 x_{0}^{3} x_{1}^{2} x_{2} - 2 x_{0}^{3} x_{1}^{2} x_{3} - 2 x_{0}^{3} x_{1} x_{2}^{2} + 2 x_{0}^{3} x_{1} x_{3}^{2} + 2 x_{0}^{3} x_{2}^{2} x_{3} - 2 x_{0}^{3} x_{2} x_{3}^{2} - 2 x_{0}^{2} x_{1}^{3} x_{2} + 2 x_{0}^{2} x_{1}^{3} x_{3} + 2 x_{0}^{2} x_{1} x_{2}^{3} - 2 x_{0}^{2} x_{1} x_{3}^{3} - 2 x_{0}^{2} x_{2}^{3} x_{3} + 2 x_{0}^{2} x_{2} x_{3}^{3} + 2 x_{0} x_{1}^{3} x_{2}^{2} - 2 x_{0} x_{1}^{3} x_{3}^{2} - 2 x_{0} x_{1}^{2} x_{2}^{3} + 2 x_{0} x_{1}^{2} x_{3}^{3} + 2 x_{0} x_{2}^{3} x_{3}^{2} - 2 x_{0} x_{2}^{2} x_{3}^{3} - 2 x_{1}^{3} x_{2}^{2} x_{3} + 2 x_{1}^{3} x_{2} x_{3}^{2} + 2 x_{1}^{2} x_{2}^{3} x_{3} - 2 x_{1}^{2} x_{2} x_{3}^{3} - 2 x_{1} x_{2}^{3} x_{3}^{2} + 2 x_{1} x_{2}^{2} x_{3}^{3}} - \\frac{x_{3}}{x_{0}^{3} x_{1}^{2} x_{2} - x_{0}^{3} x_{1}^{2} x_{3} - x_{0}^{3} x_{1} x_{2}^{2} + x_{0}^{3} x_{1} x_{3}^{2} + x_{0}^{3} x_{2}^{2} x_{3} - x_{0}^{3} x_{2} x_{3}^{2} - x_{0}^{2} x_{1}^{3} x_{2} + x_{0}^{2} x_{1}^{3} x_{3} + x_{0}^{2} x_{1} x_{2}^{3} - x_{0}^{2} x_{1} x_{3}^{3} - x_{0}^{2} x_{2}^{3} x_{3} + x_{0}^{2} x_{2} x_{3}^{3} + x_{0} x_{1}^{3} x_{2}^{2} - x_{0} x_{1}^{3} x_{3}^{2} - x_{0} x_{1}^{2} x_{2}^{3} + x_{0} x_{1}^{2} x_{3}^{3} + x_{0} x_{2}^{3} x_{3}^{2} - x_{0} x_{2}^{2} x_{3}^{3} - x_{1}^{3} x_{2}^{2} x_{3} + x_{1}^{3} x_{2} x_{3}^{2} + x_{1}^{2} x_{2}^{3} x_{3} - x_{1}^{2} x_{2} x_{3}^{3} - x_{1} x_{2}^{3} x_{3}^{2} + x_{1} x_{2}^{2} x_{3}^{3}} \\left(- x_{0}^{3} x_{1}^{2} x_{2} f{\\left (x_{3} \\right )} + x_{0}^{3} x_{1}^{2} x_{3} f{\\left (x_{2} \\right )} + x_{0}^{3} x_{1} x_{2}^{2} f{\\left (x_{3} \\right )} - x_{0}^{3} x_{1} x_{3}^{2} f{\\left (x_{2} \\right )} - x_{0}^{3} x_{2}^{2} x_{3} f{\\left (x_{1} \\right )} + x_{0}^{3} x_{2} x_{3}^{2} f{\\left (x_{1} \\right )} + x_{0}^{2} x_{1}^{3} x_{2} f{\\left (x_{3} \\right )} - x_{0}^{2} x_{1}^{3} x_{3} f{\\left (x_{2} \\right )} - x_{0}^{2} x_{1} x_{2}^{3} f{\\left (x_{3} \\right )} + x_{0}^{2} x_{1} x_{3}^{3} f{\\left (x_{2} \\right )} + x_{0}^{2} x_{2}^{3} x_{3} f{\\left (x_{1} \\right )} - x_{0}^{2} x_{2} x_{3}^{3} f{\\left (x_{1} \\right )} - x_{0} x_{1}^{3} x_{2}^{2} f{\\left (x_{3} \\right )} + x_{0} x_{1}^{3} x_{3}^{2} f{\\left (x_{2} \\right )} + x_{0} x_{1}^{2} x_{2}^{3} f{\\left (x_{3} \\right )} - x_{0} x_{1}^{2} x_{3}^{3} f{\\left (x_{2} \\right )} - x_{0} x_{2}^{3} x_{3}^{2} f{\\left (x_{1} \\right )} + x_{0} x_{2}^{2} x_{3}^{3} f{\\left (x_{1} \\right )} + x_{1}^{3} x_{2}^{2} x_{3} f{\\left (x_{0} \\right )} - x_{1}^{3} x_{2} x_{3}^{2} f{\\left (x_{0} \\right )} - x_{1}^{2} x_{2}^{3} x_{3} f{\\left (x_{0} \\right )} + x_{1}^{2} x_{2} x_{3}^{3} f{\\left (x_{0} \\right )} + x_{1} x_{2}^{3} x_{3}^{2} f{\\left (x_{0} \\right )} - x_{1} x_{2}^{2} x_{3}^{3} f{\\left (x_{0} \\right )}\\right)$$"
      ],
      "text/plain": [
       "<IPython.core.display.Latex object>"
      ]
     },
     "metadata": {},
     "output_type": "display_data"
    },
    {
     "data": {
      "text/markdown": [
       "Suponemos ahora puntos equidistantes de la forma $x_i \\rightarrow x_0 + ih$ y simplificamos, factorizando $h$ con la fracción requerida para que el interior solo tenga números enteros."
      ],
      "text/plain": [
       "<IPython.core.display.Markdown object>"
      ]
     },
     "metadata": {},
     "output_type": "display_data"
    },
    {
     "data": {
      "text/latex": [
       "$$\\int_{{x_0}}^{{x_{}}}f(x)dx\\approx\\frac{3 h}{8} \\left(f{\\left (x_{0} \\right )} + 3 f{\\left (h + x_{0} \\right )} + 3 f{\\left (2 h + x_{0} \\right )} + f{\\left (3 h + x_{0} \\right )}\\right)$$"
      ],
      "text/plain": [
       "<IPython.core.display.Latex object>"
      ]
     },
     "metadata": {},
     "output_type": "display_data"
    }
   ],
   "source": [
    "integral_methods(4)"
   ]
  }
 ],
 "metadata": {
  "kernelspec": {
   "display_name": "Python 3",
   "language": "python",
   "name": "python3"
  },
  "language_info": {
   "codemirror_mode": {
    "name": "ipython",
    "version": 3
   },
   "file_extension": ".py",
   "mimetype": "text/x-python",
   "name": "python",
   "nbconvert_exporter": "python",
   "pygments_lexer": "ipython3",
   "version": "3.5.2"
  }
 },
 "nbformat": 4,
 "nbformat_minor": 1
}
