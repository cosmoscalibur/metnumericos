{
 "cells": [
  {
   "cell_type": "markdown",
   "metadata": {},
   "source": [
    "*Con respecto al separador decimal en este documento, ya que los resultados son automáticos y se convierten al formato del notebook sin manipulación, aparecerá \".\" en lugar de \",\", ya que este corresponde al separador decimal por defecto del lenguaje de programación (python).  \n",
    "Igualmente el formateo de los vectores del resultado, corresponden a la forma string por defecto, por lo cual al iterar se indicara como Matriz un arreglo horizontal de datos, que corresponden a vectores columna de la solución.*\n",
    "        - Edward Villegas (Curso de Métodos Numéricos, UdeM)."
   ]
  },
  {
   "cell_type": "markdown",
   "metadata": {},
   "source": [
    "# Métodos iterativos matriciales  \n",
    "\n",
    "El uso de métodos iterativos para sistemas matriciales $A\\vec{x}=\\vec{b}$ permite solventar la acumulación de error numérico que se presenta por la solución de métodos directos usando la aritmética de la máquina (se recordará de los métodos directos la abundancia de operaciones, principalmente de restas y divisiones). Por ello, se buscará la solución a traves de un esquema de punto fijo, $\\vec{x}^{(k+1)}=T\\vec{x}^{(k)}+\\vec{c}$.\n",
    "\n",
    "Tras dicha forma iterativa, para una iteración $k+1$, $\\vec{x}^{(k+1)}=T^{k+1}\\vec{x}^{(0)}+\\sum\\limits_{i=0}^kT^{i}\\vec{c}$. Lo cual, si $k\\rightarrow\\infty$, solo es convergente si las potencias de $T$ tienden a anularse ($T^{k+1}\\rightarrow 0_{K_{n,n}}$), lo que corresponde a una matriz convergente ($\\rho(T)<1$).\n",
    "\n",
    "Se propone considerar la matriz $A$ como la suma de tres matrices, de la forma que se expone a continuación.\n",
    "\\begin{equation}\n",
    "A = D - L - U\n",
    "\\end{equation}\n",
    "\n",
    "\\begin{equation}\n",
    "A = \\begin{pmatrix} a_{0,0} & a_{0,1} & \\ldots & a_{0,n-1}\\\\\n",
    "a_{1,0} & a_{1,1} & \\ldots & a_{1,n-1}\\\\\n",
    "\\vdots & \\vdots & \\ddots & \\vdots\\\\\n",
    "a_{n-1,0} & a_{n-1,1} & \\ldots & a_{n-1,n-1}\\\\\n",
    "\\end{pmatrix}\n",
    "\\end{equation}\n",
    "\n",
    "\\begin{equation}\n",
    "D = \\begin{pmatrix} a_{0,0} & 0 & \\ldots & 0\\\\\n",
    "0 & a_{1,1} & \\ldots & 0\\\\\n",
    "\\vdots & \\vdots & \\ddots & \\vdots\\\\\n",
    "0 & 0 & \\ldots & a_{n-1,n-1}\\\\\n",
    "\\end{pmatrix}\n",
    "\\end{equation}\n",
    "\n",
    "\\begin{equation}\n",
    "U = \\begin{pmatrix} 0 & -a_{0,1} & -a_{0, i} & -a_{0,n-1}\\\\\n",
    "0 & 0 & -a_{i,j} & -a_{1,n-1}\\\\\n",
    "\\vdots & \\vdots & \\ddots & -a_{i,n-1}\\\\\n",
    "0 & 0 & \\ldots & 0\\\\\n",
    "\\end{pmatrix}\n",
    "\\end{equation}\n",
    "\n",
    "\\begin{equation}\n",
    "L = \\begin{pmatrix} 0 & 0 & \\ldots & 0\\\\\n",
    "-a_{1,0} & 0 & \\ldots & 0\\\\\n",
    "-a_{i,0} & -a_{i,j} & \\ddots & \\vdots\\\\\n",
    "-a_{n-1,0} & -a_{n-1,1} & -a_{n-1,j} & 0\\\\\n",
    "\\end{pmatrix}\n",
    "\\end{equation}\n",
    "\n",
    "Debido a la gran cantidad de elementos ceros, una forma indicial de los métodos será mucho más eficiente que la forma matricial en el momento de la implementación (reducción de numero de operaciones y de almacenamiento de memoria)."
   ]
  },
  {
   "cell_type": "markdown",
   "metadata": {
    "collapsed": true
   },
   "source": [
    "## Método de Jacobi  \n",
    "El método de Jacobi propone el siguiente desarrollo matricial.  \n",
    "\n",
    "\\begin{eqnarray}\n",
    "A\\vec{x} & = & \\vec{b} \\\\\n",
    "(D - L - U)\\vec{x} & = & \\vec{b} \\\\\n",
    "D\\vec{x} & = & (L+U)\\vec{x} + \\vec{b} \\\\\n",
    "\\vec{x} & = & D^{-1}(L+U)\\vec{x} + D^{-1}\\vec{b} \\\\\n",
    "\\vec{x}^{(k+1)} & = & T_J \\vec{x}^{(k)} + \\vec{c}_J \\quad \\text{(Forma matricial)}\n",
    "\\end{eqnarray}\n",
    "\n",
    "Esto puede ser llevado a una forma indicial, transformando los productos matriz-vector a su forma de producto punto fila-vector, y las sumas elemento a elemento. Igualmente, teniendo en cuenta que la inversa de una matriz diagonal es otra matriz diagonal en la que sus elementos son los inversos multiplicativos de los elementos originales.\n",
    "\n",
    "\\begin{equation}\n",
    "x_i^{(k+1)} = \\frac{-\\sum_{j=0}^{i-1}a_{ij}x_j^{(k)} -\\sum_{j=i+1}^{n-1}a_{ij}x_j^{(k)} + b_i}{a_{ii}}\n",
    "\\end{equation}\n",
    "\n",
    "Para este método es necesario que los $a_{ii} \\neq 0$ para que $D$ (matriz diagonal) sea invertible. Si se realiza manualmente, tenga en cuenta que la inversa de una matriz diagonal, es una matriz diagonal con los inversos multiplicativos de los elementos originales. Y su multiplicación por matrices y vectores se obtiene rapidamente al multiplicar el elemento diagonal por la fila correspondiente de la otra matriz o vector.\n",
    "\n",
    "Si $A$ es estrictamente diagonal dominante, este método converge a la solución única de $A\\vec{x} = \\vec{b}$."
   ]
  },
  {
   "cell_type": "markdown",
   "metadata": {},
   "source": [
    "## Método de Gauss-Seidel\n",
    "\n",
    "Nótese que en la forma indicial del método de Jacobi, se observa que en la medida que se calcula una determinada componente $x_i$, las componentes anteriores ya son conocidas sus actualizaciones. De manera, que una mejor aproximación de esta componente es usar la información actualizada de las componentes anteriores a esta.\n",
    "\n",
    "\\begin{equation}\n",
    "x_i^{(k+1)} = \\frac{-\\sum_{j=0}^{i-1}a_{ij}x_j^{(k+1)} -\\sum_{j=i+1}^{n-1}a_{ij}x_j^{(k)} + b_i}{a_{ii}}\n",
    "\\end{equation}\n",
    "\n",
    "Esta forma indicial, puede ser llevada a la forma matricial si consideramos que  \n",
    "\n",
    "\\begin{eqnarray}\n",
    "A\\vec{x} & = & \\vec{b} \\\\\n",
    "(D-L-U)\\vec{x} & = & \\vec{b} \\\\\n",
    "(D-L)\\vec{x} & = & U\\vec{x} + \\vec{b} \\\\\n",
    "\\vec{x} & = & (D-L)^{-1}U\\vec{x} + (D-L)^{-1}\\vec{b} \\\\\n",
    "\\vec{x}^{(k+1)} & = & T_G\\vec{x}^{(k)} + \\vec{c}_G\n",
    "\\end{eqnarray}\n",
    "\n",
    "Para este método es necesario que los $a_{ii} \\neq 0$ para que $(D-L)$ (matriz triangular inferior) sea invertible.\n",
    "\n",
    "Si $A$ es estrictamente diagonal dominante, este método converge a la solución única de $A\\vec{x} = \\vec{b}$."
   ]
  },
  {
   "cell_type": "markdown",
   "metadata": {
    "collapsed": true
   },
   "source": [
    "## Método de SOR\n",
    "\n",
    "El método de SOR (*Successive Over-Relaxation*) parte de la unión del método de Gauss-Seidel con el principio de punto fijo bajo la condición de convergencia, y toma una proporción de cada igualdad para formar una nueva forma iterativa.\n",
    "\n",
    "\\begin{equation}\n",
    "\\begin{matrix}\n",
    "(1-\\omega)\\vec{x}^{(k+1)} & = & (1-\\omega)\\vec{x}^{(k)} \\\\\n",
    "\\omega \\vec{x}^{(k+1)} & = & \\omega (D-L)^{-1}(U\\vec{x}^{(k)} + \\vec{b}) \\\\\n",
    "\\hline\n",
    "\\vec{x}^{(k+1)} & = & (1-\\omega)\\vec{x}^{(k)} + \\omega (D-L)^{-1}(U\\vec{x}^{(k)} + \\vec{b})\n",
    "\\end{matrix}\n",
    "\\end{equation}\n",
    "\n",
    "Luego, tras manipulación algebraica y aplicaciones de la condición de punto fijo en la convergencia, se sigue que\n",
    "\n",
    "\\begin{eqnarray}\n",
    "(D-L)\\vec{x}^{(k+1)} - (1-\\omega)(D-L)\\vec{x}^{(k)} &=& \\omega (U\\vec{x}^{(k)} + \\vec{b}) \\\\\n",
    "D\\vec{x}^{(k+1)} - L\\vec{x}^{(k+1)} + L\\vec{x}^{(k)} - \\omega L\\vec{x}^{(k)} &=& (D(1-\\omega)+\\omega U)\\vec{x}^{(k)} + \\omega\\vec{b} \\\\\n",
    "D\\vec{x}^{(k+1)} - \\omega L\\vec{x}^{(k)} &=& (D(1-\\omega)+\\omega U)\\vec{x}^{(k)} + \\omega\\vec{b} \\\\\n",
    "(D - \\omega L)\\vec{x}^{(k+1)} & = & (D(1-\\omega)+\\omega U)\\vec{x}^{(k)} + \\omega\\vec{b} \\\\\n",
    "\\vec{x}^{(k+1)} &=& (D - \\omega L)^{-1}(D(1-\\omega)+\\omega U)\\vec{x}^{(k)}\\\\ && + (D - \\omega L)^{-1}\\omega\\vec{b} \\\\\n",
    "\\vec{x}^{(k+1)} &=& T_{SOR}\\vec{x}^{(k)} + \\vec{c}_{SOR}\n",
    "\\end{eqnarray}\n",
    "\n",
    "De la misma forma, la forma indicial se obtiene como  \n",
    "\n",
    "\\begin{equation}\n",
    "\\begin{matrix}\n",
    "(1-\\omega)\\vec{x}_i^{(k+1)} & = & (1-\\omega)\\vec{x}_i^{(k)} \\\\\n",
    "\\omega \\vec{x}_i^{(k+1)} & = & \\omega \\frac{-\\sum_{j=0}^{i-1}a_{ij}x_j^{(k+1)} -\\sum_{j=i+1}^{n-1}a_{ij}x_j^{(k)} + b_i}{a_{ii}}  \\\\\n",
    "\\hline\n",
    "\\vec{x}_i^{(k+1)} & = & (1-\\omega)\\vec{x}_i^{(k)} + \\frac{-\\sum_{j=0}^{i-1}a_{ij}x_j^{(k+1)} -\\sum_{j=i+1}^{n-1}a_{ij}x_j^{(k)} + b_i}{a_{ii}}\n",
    "\\end{matrix}\n",
    "\\end{equation}\n",
    "\n",
    "Donde $0 \\leq \\omega \\leq 2$, para que el método converja. Esto se puede asegurar si $A$ es matriz definida positiva. Sin embargo, la convergencia a la solución única de $A\\vec{x}=\\vec{b}$ no se asegura, y es fuertemente dependiente de la selección de $\\omega$.\n",
    "\n",
    "\n",
    "Para seleccionar el método más adecuado, se usa como criterio el radio espectral. A menor radio espectral, mayor velocidad de convergencia.\n",
    "\n",
    "Para la definición del error, criterio de parada, se puede definir el error a tráves de las normas *p*, $||\\vec{x}^{(k+1)}-\\vec{x}^{(k)}||$ o $||A\\vec{x}^{(k+1)}-\\vec{b}||$. Estas definiciones son las versiones absolutas del error, las cuales también pueden definirse como relativas al dividir por la norma del vector verdadero. Entre las dos definiciones (una solo dependiente de las iteraciones, y la segunda dependiente de reconstruir el valor verdadero), la primera solo permite definir si el método esta convergiendo, mientras la segunda define si converge a la solución única."
   ]
  },
  {
   "cell_type": "markdown",
   "metadata": {},
   "source": [
    "## Ejemplo  \n",
    "\n",
    "Para la ejemplificación se tomará el sistema de ecuaciones:\n",
    "\n",
    "\\begin{eqnarray}\n",
    "4x_1 + 3x_2 & = & 24 \\\\\n",
    "3x_1 + 4x_2 -x_3 & = & 30 \\\\\n",
    "-x_2 + 4x_3 & = & -24\n",
    "\\end{eqnarray}\n",
    "\n",
    "A continuación se obtendrán las definiciones para las formas matriciales."
   ]
  },
  {
   "cell_type": "code",
   "execution_count": 1,
   "metadata": {
    "collapsed": true
   },
   "outputs": [],
   "source": [
    "from sympy import * # Paquete de calculo simbolico/exacto\n",
    "init_printing() # Habilita la impresión de simbolos en formato LaTeX desde SymPy\n",
    "from IPython.display import Latex # Habilita el uso LaTeX desde IPython\n",
    "w = Symbol('w', real=True) # Se declara la variable simbolica para el parametro de relajación"
   ]
  },
  {
   "cell_type": "code",
   "execution_count": 2,
   "metadata": {
    "collapsed": false
   },
   "outputs": [],
   "source": [
    "A = Matrix([[4, 3, 0], [3, 4, -1], [0, -1, 4]])\n",
    "b = Matrix([[24],[30],[-24]])\n",
    "D = Matrix([[4 , 0 , 0],[0 , 4 , 0],[0, 0, 4]])\n",
    "L = Matrix([[0, 0, 0], [-3, 0, 0], [0, 1, 0]])\n",
    "U = Matrix([[0, -3, 0], [0, 0, 1], [0, 0, 0]])\n",
    "T_J = D**(-1)*(U+L)\n",
    "T_G = (D-L)**(-1)*U\n",
    "T_SOR = (D - w*L)**(-1)*(D*(1-w)+w*U)\n",
    "c_J = D**(-1)*b\n",
    "c_G = (D-L)**(-1)*b\n",
    "c_SOR = w*(D - w*L)**(-1)*b"
   ]
  },
  {
   "cell_type": "code",
   "execution_count": 3,
   "metadata": {
    "collapsed": false
   },
   "outputs": [
    {
     "data": {
      "text/latex": [
       "\\begin{eqnarray}\\left[\\begin{matrix}4 & 3 & 0\\\\3 & 4 & -1\\\\0 & -1 & 4\\end{matrix}\\right]\\vec{x}&=&\\left[\\begin{matrix}24\\\\30\\\\-24\\end{matrix}\\right]\\\\ A&=&\\left[\\begin{matrix}4 & 3 & 0\\\\3 & 4 & -1\\\\0 & -1 & 4\\end{matrix}\\right]\\\\ D &=&\\left[\\begin{matrix}4 & 0 & 0\\\\0 & 4 & 0\\\\0 & 0 & 4\\end{matrix}\\right]\\\\ L&=&\\left[\\begin{matrix}0 & 0 & 0\\\\-3 & 0 & 0\\\\0 & 1 & 0\\end{matrix}\\right]\\\\ U&=&\\left[\\begin{matrix}0 & -3 & 0\\\\0 & 0 & 1\\\\0 & 0 & 0\\end{matrix}\\right]\\\\ T_J&=&\\left[\\begin{matrix}0 & - \\frac{3}{4} & 0\\\\- \\frac{3}{4} & 0 & \\frac{1}{4}\\\\0 & \\frac{1}{4} & 0\\end{matrix}\\right]\\\\ T_G&=&\\left[\\begin{matrix}0 & - \\frac{3}{4} & 0\\\\0 & \\frac{9}{16} & \\frac{1}{4}\\\\0 & \\frac{9}{64} & \\frac{1}{16}\\end{matrix}\\right]\\\\ T_{SOR}&=&\\left[\\begin{matrix}- w + 1 & - \\frac{3 w}{4} & 0\\\\- \\frac{3 w}{16} \\left(- 4 w + 4\\right) & \\frac{9 w^{2}}{16} - w + 1 & \\frac{w}{4}\\\\- \\frac{3 w^{2}}{64} \\left(- 4 w + 4\\right) & \\frac{9 w^{3}}{64} + \\frac{w}{16} \\left(- 4 w + 4\\right) & \\frac{w^{2}}{16} - w + 1\\end{matrix}\\right]\\\\ \\vec{c}_J&=&\\left[\\begin{matrix}6\\\\\\frac{15}{2}\\\\-6\\end{matrix}\\right]\\\\ \\vec{c}_G&=&\\left[\\begin{matrix}6\\\\3\\\\- \\frac{21}{4}\\end{matrix}\\right]\\\\ \\vec{c}_{SOR}&=&\\left[\\begin{matrix}6 w\\\\- \\frac{9 w^{2}}{2} + \\frac{15 w}{2}\\\\- \\frac{9 w^{3}}{8} + \\frac{15 w^{2}}{8} - 6 w\\end{matrix}\\right]\\end{eqnarray}"
      ],
      "text/plain": [
       "<IPython.core.display.Latex object>"
      ]
     },
     "execution_count": 3,
     "metadata": {},
     "output_type": "execute_result"
    }
   ],
   "source": [
    "Latex('\\\\begin{eqnarray}' + latex(A)+'\\\\vec{x}&=&' + latex(b) +\n",
    "      '\\\\\\\\ A&=&' + latex(A)+ '\\\\\\\\ D &=&' + latex(D)+'\\\\\\\\ L&=&' + latex(L)+\n",
    "      '\\\\\\\\ U&=&' + latex(U)+ '\\\\\\\\ T_J&=&' + latex(T_J) + '\\\\\\\\ T_G&=&' + latex(T_G) +\n",
    "      '\\\\\\\\ T_{SOR}&=&' + latex(T_SOR) +'\\\\\\\\ \\\\vec{c}_J&=&'+latex(c_J)+'\\\\\\\\ \\\\vec{c}_G&=&'+\n",
    "      latex(c_G)+'\\\\\\\\ \\\\vec{c}_{SOR}&=&'+latex(c_SOR)+'\\\\end{eqnarray}')"
   ]
  },
  {
   "cell_type": "markdown",
   "metadata": {
    "collapsed": true
   },
   "source": [
    "A continuación obtenemos los autovalores de las matrices $T$, con el fin de calcular posteriormente el radio espectral (el cual permite determinar la convergencia del método)."
   ]
  },
  {
   "cell_type": "code",
   "execution_count": 4,
   "metadata": {
    "collapsed": false
   },
   "outputs": [
    {
     "data": {
      "text/latex": [
       "$\\left \\{ 0 : 1, \\quad - \\frac{\\sqrt{10}}{4} : 1, \\quad \\frac{\\sqrt{10}}{4} : 1\\right \\}$"
      ],
      "text/plain": [
       "<IPython.core.display.Latex object>"
      ]
     },
     "execution_count": 4,
     "metadata": {},
     "output_type": "execute_result"
    }
   ],
   "source": [
    "eigen_J = T_J.eigenvals() # Autovalores de T_J\n",
    "Latex('$'+latex(eigen_J)+'$')"
   ]
  },
  {
   "cell_type": "code",
   "execution_count": 5,
   "metadata": {
    "collapsed": false
   },
   "outputs": [
    {
     "data": {
      "text/latex": [
       "$\\left \\{ 0 : 2, \\quad \\frac{5}{8} : 1\\right \\}$"
      ],
      "text/plain": [
       "<IPython.core.display.Latex object>"
      ]
     },
     "execution_count": 5,
     "metadata": {},
     "output_type": "execute_result"
    }
   ],
   "source": [
    "eigen_G = T_G.eigenvals()\n",
    "Latex('$'+latex(eigen_G)+'$')"
   ]
  },
  {
   "cell_type": "markdown",
   "metadata": {},
   "source": [
    "Para el caso del método de SOR, es necesario asignar un valor para el parámetro de relajación, en este caso $\\omega =$ 1,25."
   ]
  },
  {
   "cell_type": "code",
   "execution_count": 6,
   "metadata": {
    "collapsed": false
   },
   "outputs": [
    {
     "data": {
      "text/latex": [
       "\\begin{eqnarray} T_{SOR} &=&\\left[\\begin{matrix}-0.25 & -0.9375 & 0\\\\0.234375 & 0.62890625 & 0.3125\\\\0.0732421875 & 0.196533203125 & -0.15234375\\end{matrix}\\right]\\\\ \\vec{c}_{SOR}&=&\\left[\\begin{matrix}7.5\\\\2.34375\\\\-6.767578125\\end{matrix}\\right]\\end{eqnarray}"
      ],
      "text/plain": [
       "<IPython.core.display.Latex object>"
      ]
     },
     "execution_count": 6,
     "metadata": {},
     "output_type": "execute_result"
    }
   ],
   "source": [
    "T_SOR = (D - 1.25*L)**(-1)*(D*(1-1.25)+1.25*U)\n",
    "c_SOR = 1.25*(D - 1.25*L)**(-1)*b\n",
    "Latex('\\\\begin{eqnarray} T_{SOR} &=&' + latex(T_SOR) + '\\\\\\\\ \\\\vec{c}_{SOR}&=&' + \n",
    "      latex(c_SOR) + '\\\\end{eqnarray}')"
   ]
  },
  {
   "cell_type": "code",
   "execution_count": 7,
   "metadata": {
    "collapsed": false
   },
   "outputs": [
    {
     "data": {
      "text/latex": [
       "$\\left \\{ - \\frac{1}{4} : 1, \\quad \\frac{61}{256} - \\frac{5 i}{256} \\sqrt{15} : 1, \\quad \\frac{61}{256} + \\frac{5 i}{256} \\sqrt{15} : 1\\right \\}$"
      ],
      "text/plain": [
       "<IPython.core.display.Latex object>"
      ]
     },
     "execution_count": 7,
     "metadata": {},
     "output_type": "execute_result"
    }
   ],
   "source": [
    "eigen_SOR = T_SOR.eigenvals()\n",
    "Latex('$'+latex(eigen_SOR)+'$')"
   ]
  },
  {
   "cell_type": "markdown",
   "metadata": {},
   "source": [
    "Se define el radio espectral $\\rho(T) = \\max \\lbrace |\\lambda_i| \\rbrace$."
   ]
  },
  {
   "cell_type": "code",
   "execution_count": 8,
   "metadata": {
    "collapsed": false
   },
   "outputs": [],
   "source": [
    "rho_J = max([abs(i) for i in list(eigen_J.keys())])\n",
    "rho_G = max([abs(i) for i in list(eigen_G.keys())])\n",
    "rho_SOR = max([abs(i) for i in list(eigen_SOR.keys())])"
   ]
  },
  {
   "cell_type": "code",
   "execution_count": 9,
   "metadata": {
    "collapsed": false
   },
   "outputs": [
    {
     "data": {
      "text/latex": [
       "\\begin{eqnarray} \\rho (T_J) & = &\\frac{\\sqrt{10}}{4}=0.790569415042095\\\\ \\rho (T_G) & = &\\frac{5}{8}=0.625\\\\ \\rho (T_{SOR}) & = &\\frac{1}{4}=0.25\\end{eqnarray}"
      ],
      "text/plain": [
       "<IPython.core.display.Latex object>"
      ]
     },
     "execution_count": 9,
     "metadata": {},
     "output_type": "execute_result"
    }
   ],
   "source": [
    "Latex('\\\\begin{eqnarray} \\\\rho (T_J) & = &' + latex(rho_J) + '=' + latex(rho_J.evalf()) +\n",
    "      '\\\\\\\\ \\\\rho (T_G) & = &' + latex(rho_G) + '=' + latex(rho_G.evalf()) +\n",
    "      '\\\\\\\\ \\\\rho (T_{SOR}) & = &' + latex(rho_SOR) + '=' + latex(rho_SOR.evalf()) +\n",
    "      '\\\\end{eqnarray}')"
   ]
  },
  {
   "cell_type": "markdown",
   "metadata": {},
   "source": [
    "Observamos que la matriz $T$ con menor radio espectral es $T_{SOR}$, por lo que esperamos que de las iteraciones de los 3 métodos, este sea el que logre una convergencia más rápida, tal como se observa a continuación.  \n",
    "Solución exacta $\\vec{x} = (3, 4, -5) $."
   ]
  },
  {
   "cell_type": "code",
   "execution_count": 10,
   "metadata": {
    "collapsed": false
   },
   "outputs": [],
   "source": [
    "# Aplicación de los métodos iterativos\n",
    "x_J = Matrix([[0], [0], [0]])\n",
    "x_J_list = [x_J]\n",
    "x_G = Matrix([[0], [0], [0]])\n",
    "x_G_list = [x_G]\n",
    "x_SOR = Matrix([[0], [0], [0]])\n",
    "x_SOR_list = [x_SOR]\n",
    "for i in range(11):\n",
    "    x_J = T_J*x_J + c_J\n",
    "    x_J_list.append(x_J)\n",
    "    x_G = T_G*x_G + c_G\n",
    "    x_G_list.append(x_G)\n",
    "    x_SOR = T_SOR*x_SOR + c_SOR\n",
    "    x_SOR_list.append(x_SOR)"
   ]
  },
  {
   "cell_type": "code",
   "execution_count": 11,
   "metadata": {
    "collapsed": false
   },
   "outputs": [
    {
     "name": "stdout",
     "output_type": "stream",
     "text": [
      "Matrix([[6.00000000000000], [7.50000000000000], [-6.00000000000000]])\n",
      "Matrix([[0.375000000000000], [1.50000000000000], [-4.12500000000000]])\n",
      "Matrix([[4.87500000000000], [6.18750000000000], [-5.62500000000000]])\n",
      "Matrix([[1.35937500000000], [2.43750000000000], [-4.45312500000000]])\n",
      "Matrix([[4.17187500000000], [5.36718750000000], [-5.39062500000000]])\n",
      "Matrix([[1.97460937500000], [3.02343750000000], [-4.65820312500000]])\n",
      "Matrix([[3.73242187500000], [4.85449218750000], [-5.24414062500000]])\n",
      "Matrix([[2.35913085937500], [3.38964843750000], [-4.78637695312500]])\n",
      "Matrix([[3.45776367187500], [4.53405761718750], [-5.15258789062500]])\n",
      "Matrix([[2.59945678710938], [3.61853027343750], [-4.86648559570313]])\n",
      "Matrix([[3.28610229492188], [4.33378601074219], [-5.09536743164063]])\n"
     ]
    }
   ],
   "source": [
    "# Método de Jacobi\n",
    "M = x_J\n",
    "for i in range(1, len(x_J_list)):\n",
    "    print(x_J_list[i].evalf())"
   ]
  },
  {
   "cell_type": "code",
   "execution_count": 12,
   "metadata": {
    "collapsed": false
   },
   "outputs": [
    {
     "name": "stdout",
     "output_type": "stream",
     "text": [
      "Matrix([[6.00000000000000], [3.00000000000000], [-5.25000000000000]])\n",
      "Matrix([[3.75000000000000], [3.37500000000000], [-5.15625000000000]])\n",
      "Matrix([[3.46875000000000], [3.60937500000000], [-5.09765625000000]])\n",
      "Matrix([[3.29296875000000], [3.75585937500000], [-5.06103515625000]])\n",
      "Matrix([[3.18310546875000], [3.84741210937500], [-5.03814697265625]])\n",
      "Matrix([[3.11444091796875], [3.90463256835938], [-5.02384185791016]])\n",
      "Matrix([[3.07152557373047], [3.94039535522461], [-5.01490116119385]])\n",
      "Matrix([[3.04470348358154], [3.96274709701538], [-5.00931322574615]])\n",
      "Matrix([[3.02793967723846], [3.97671693563461], [-5.00582076609135]])\n",
      "Matrix([[3.01746229827404], [3.98544808477163], [-5.00363797880709]])\n",
      "Matrix([[3.01091393642128], [3.99090505298227], [-5.00227373675443]])\n"
     ]
    }
   ],
   "source": [
    "# Método de Gauss Seidel\n",
    "M = x_G\n",
    "for i in range(1, len(x_G_list)):\n",
    "    print(x_G_list[i].evalf())"
   ]
  },
  {
   "cell_type": "code",
   "execution_count": 13,
   "metadata": {
    "collapsed": false
   },
   "outputs": [
    {
     "name": "stdout",
     "output_type": "stream",
     "text": [
      "Matrix([[7.50000000000000], [2.34375000000000], [-6.76757812500000]])\n",
      "Matrix([[3.42773437500000], [3.46069335937500], [-4.72663879394531]])\n",
      "Matrix([[3.39866638183594], [3.84650230407715], [-5.11630833148956]])\n",
      "Matrix([[3.04423749446869], [3.96055541932583], [-4.98324934858829]])\n",
      "Matrix([[3.02591992076486], [3.99079579801764], [-5.00706397597241]])\n",
      "Matrix([[3.00214895916724], [3.99807890878492], [-4.99883434701161]])\n",
      "Matrix([[3.00126378322233], [3.99965974259171], [-5.00039774368719]])\n",
      "Matrix([[3.00000304551469], [3.99995791427980], [-4.99991371586576]])\n",
      "Matrix([[3.00003869398401], [4.00000120961199], [-5.00002119302981]])\n",
      "Matrix([[2.99998919249276], [4.00000320681323], [-4.99999369961341]])\n",
      "Matrix([[2.99999969548941], [4.00000145264618], [-5.00000112114472]])\n"
     ]
    }
   ],
   "source": [
    "# Método de SOR\n",
    "M = x_SOR\n",
    "for i in range(1, len(x_SOR_list)):\n",
    "    print(x_SOR_list[i].evalf())"
   ]
  }
 ],
 "metadata": {
  "kernelspec": {
   "display_name": "Python 3",
   "language": "python",
   "name": "python3"
  },
  "language_info": {
   "codemirror_mode": {
    "name": "ipython",
    "version": 3
   },
   "file_extension": ".py",
   "mimetype": "text/x-python",
   "name": "python",
   "nbconvert_exporter": "python",
   "pygments_lexer": "ipython3",
   "version": "3.4.3"
  }
 },
 "nbformat": 4,
 "nbformat_minor": 0
}
